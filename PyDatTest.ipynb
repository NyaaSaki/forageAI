{
 "cells": [
  {
   "cell_type": "code",
   "execution_count": 3,
   "metadata": {},
   "outputs": [
    {
     "name": "stdout",
     "output_type": "stream",
     "text": [
      "Requirement already satisfied: PyDatalog in c:\\users\\shado\\appdata\\local\\programs\\python\\python37\\lib\\site-packages (0.17.4)\n"
     ]
    },
    {
     "name": "stderr",
     "output_type": "stream",
     "text": [
      "WARNING: You are using pip version 20.1.1; however, version 23.3.1 is available.\n",
      "You should consider upgrading via the 'c:\\users\\shado\\appdata\\local\\programs\\python\\python37\\python.exe -m pip install --upgrade pip' command.\n"
     ]
    }
   ],
   "source": [
    "!pip install PyDatalog"
   ]
  },
  {
   "cell_type": "code",
   "execution_count": 4,
   "metadata": {},
   "outputs": [
    {
     "name": "stdout",
     "output_type": "stream",
     "text": [
      "<module 'pyDatalog.pyDatalog' from 'c:\\\\Users\\\\shado\\\\AppData\\\\Local\\\\Programs\\\\Python\\\\Python37\\\\lib\\\\site-packages\\\\pyDatalog\\\\pyDatalog.py'>\n",
      "X\n",
      "-\n",
      "1\n"
     ]
    }
   ],
   "source": [
    "from pyDatalog import pyDatalog as pd\n",
    "\n",
    "print(pd)\n",
    "\n",
    "pd.create_terms('X','Y')\n",
    "print(X==1)"
   ]
  },
  {
   "cell_type": "code",
   "execution_count": 5,
   "metadata": {},
   "outputs": [
    {
     "name": "stdout",
     "output_type": "stream",
     "text": [
      "X | Y\n",
      "--|--\n",
      "2 | 4\n"
     ]
    }
   ],
   "source": [
    "def twice(a):\n",
    "    return 2*a\n",
    "pd.create_terms('twice')\n",
    "print((X==2) & (Y==twice(X)))"
   ]
  },
  {
   "cell_type": "code",
   "execution_count": 6,
   "metadata": {},
   "outputs": [],
   "source": [
    "pd.create_terms('repairs')\n",
    "\n",
    "repairs['john'] = 'bulb'\n",
    "repairs['jack'] = 'light'"
   ]
  },
  {
   "cell_type": "code",
   "execution_count": 17,
   "metadata": {},
   "outputs": [
    {
     "name": "stdout",
     "output_type": "stream",
     "text": [
      "Y    | X      \n",
      "-----|--------\n",
      "maya | hanako \n",
      "maya | taro   \n",
      "ken  | maya   \n",
      "saki | maya   \n",
      "ken  | yuki   \n",
      "ken  | hiroshi\n",
      "saki | yuki   \n",
      "saki | hiroshi\n"
     ]
    }
   ],
   "source": [
    "pd.create_terms('parent, child, sibling','Y')\n",
    "\n",
    "# Define some example data\n",
    "+parent('saki', 'hiroshi')\n",
    "+parent('saki', 'yuki')\n",
    "+parent('ken', 'hiroshi')\n",
    "+parent('ken', 'yuki')\n",
    "+parent('saki', 'maya')\n",
    "+parent('ken', 'maya')\n",
    "+parent('maya', 'taro')\n",
    "+parent('maya', 'hanako')\n",
    "\n",
    "print(parent(Y,X))\n"
   ]
  },
  {
   "cell_type": "code",
   "execution_count": 23,
   "metadata": {},
   "outputs": [
    {
     "name": "stdout",
     "output_type": "stream",
     "text": [
      "print(parent('saki',Y))\n",
      "Y      \n",
      "-------\n",
      "hiroshi\n",
      "maya   \n",
      "yuki   \n"
     ]
    }
   ],
   "source": [
    "query = \"print(\" + input() + \")\"\n",
    "print(query)\n",
    "exec(query,globals())"
   ]
  },
  {
   "cell_type": "code",
   "execution_count": 38,
   "metadata": {},
   "outputs": [],
   "source": [
    "pd.load(\"\"\"\n",
    "     +parent('saki','zofia')\n",
    "     \"\"\")\n",
    "\n",
    "\n",
    "sol = pd.ask(input())"
   ]
  },
  {
   "cell_type": "code",
   "execution_count": 39,
   "metadata": {},
   "outputs": [
    {
     "name": "stdout",
     "output_type": "stream",
     "text": [
      "{('maya', 'hanako'), ('saki', 'zofia'), ('saki', 'yuki'), ('ken', 'hiroshi'), ('ken', 'yuki'), ('ken', 'maya'), ('saki', 'hiroshi'), ('maya', 'taro'), ('saki', 'maya')}\n"
     ]
    }
   ],
   "source": [
    "print(sol)"
   ]
  }
 ],
 "metadata": {
  "kernelspec": {
   "display_name": "Python 3",
   "language": "python",
   "name": "python3"
  },
  "language_info": {
   "codemirror_mode": {
    "name": "ipython",
    "version": 3
   },
   "file_extension": ".py",
   "mimetype": "text/x-python",
   "name": "python",
   "nbconvert_exporter": "python",
   "pygments_lexer": "ipython3",
   "version": "3.7.9"
  },
  "orig_nbformat": 4
 },
 "nbformat": 4,
 "nbformat_minor": 2
}
