{
 "cells": [
  {
   "cell_type": "markdown",
   "metadata": {},
   "source": [
    "Prerequisites:\n"
   ]
  },
  {
   "cell_type": "code",
   "execution_count": 20,
   "metadata": {},
   "outputs": [
    {
     "name": "stdout",
     "output_type": "stream",
     "text": [
      "Defaulting to user installation because normal site-packages is not writeable\n",
      "Collecting discord\n",
      "  Using cached discord-2.3.2-py3-none-any.whl (1.1 kB)\n",
      "Collecting discord.py>=2.3.2\n",
      "  Downloading discord.py-2.3.2-py3-none-any.whl (1.1 MB)\n",
      "     ---------------------------------------- 1.1/1.1 MB 509.3 kB/s eta 0:00:00\n",
      "Requirement already satisfied: aiohttp<4,>=3.7.4 in c:\\users\\shado\\appdata\\roaming\\python\\python310\\site-packages (from discord.py>=2.3.2->discord) (3.8.6)\n",
      "Requirement already satisfied: attrs>=17.3.0 in c:\\programdata\\anaconda3\\lib\\site-packages (from aiohttp<4,>=3.7.4->discord.py>=2.3.2->discord) (22.1.0)\n",
      "Requirement already satisfied: yarl<2.0,>=1.0 in c:\\users\\shado\\appdata\\roaming\\python\\python310\\site-packages (from aiohttp<4,>=3.7.4->discord.py>=2.3.2->discord) (1.9.2)\n",
      "Requirement already satisfied: multidict<7.0,>=4.5 in c:\\users\\shado\\appdata\\roaming\\python\\python310\\site-packages (from aiohttp<4,>=3.7.4->discord.py>=2.3.2->discord) (6.0.4)\n",
      "Requirement already satisfied: charset-normalizer<4.0,>=2.0 in c:\\programdata\\anaconda3\\lib\\site-packages (from aiohttp<4,>=3.7.4->discord.py>=2.3.2->discord) (2.0.4)\n",
      "Requirement already satisfied: frozenlist>=1.1.1 in c:\\users\\shado\\appdata\\roaming\\python\\python310\\site-packages (from aiohttp<4,>=3.7.4->discord.py>=2.3.2->discord) (1.4.0)\n",
      "Requirement already satisfied: aiosignal>=1.1.2 in c:\\users\\shado\\appdata\\roaming\\python\\python310\\site-packages (from aiohttp<4,>=3.7.4->discord.py>=2.3.2->discord) (1.3.1)\n",
      "Requirement already satisfied: async-timeout<5.0,>=4.0.0a3 in c:\\users\\shado\\appdata\\roaming\\python\\python310\\site-packages (from aiohttp<4,>=3.7.4->discord.py>=2.3.2->discord) (4.0.3)\n",
      "Requirement already satisfied: idna>=2.0 in c:\\programdata\\anaconda3\\lib\\site-packages (from yarl<2.0,>=1.0->aiohttp<4,>=3.7.4->discord.py>=2.3.2->discord) (3.4)\n",
      "Installing collected packages: discord.py, discord\n",
      "Successfully installed discord-2.3.2 discord.py-2.3.2\n"
     ]
    }
   ],
   "source": [
    "# using Python 3.10.9\n",
    "\n",
    "#!pip install openai\n",
    "#!pip install discord"
   ]
  },
  {
   "cell_type": "markdown",
   "metadata": {},
   "source": [
    "Initialize OpenAI"
   ]
  },
  {
   "cell_type": "code",
   "execution_count": 12,
   "metadata": {},
   "outputs": [],
   "source": [
    "import openai\n",
    "import context\n",
    "gptlog = []\n",
    "gptlog = context.GetContext\n",
    "key = open(\"key\",\"r\").read()\n",
    "#print(key)\n",
    "openai.api_key = key\n",
    "def req(content,model = \"gpt-3.5-turbo\"):\n",
    "    gptlog.append(\n",
    "        {\n",
    "            \"role\": \"user\", \"content\" : content\n",
    "        }\n",
    "    )\n",
    "    response = openai.ChatCompletion.create(\n",
    "        model = model,\n",
    "        messages = gptlog\n",
    "    )\n",
    "    gptlog.append(\n",
    "        {\n",
    "            \"role\": \"assistant\", \"content\" : response['choices'][0]['message']['content']\n",
    "        }\n",
    "    )\n",
    "    return response['choices'][0]['message']['content'],resp[\"usage\"][\"total_tokens\"]"
   ]
  },
  {
   "cell_type": "code",
   "execution_count": 13,
   "metadata": {},
   "outputs": [
    {
     "name": "stdout",
     "output_type": "stream",
     "text": [
      "[{'role': 'system', 'content': 'your name is Alia Zohreh. You are a forager who knows about wild plants and herbs and will try to give valuable valid advice on how to keep you safe. other than that, you are shy and soft spoken, but do not apologize as much'}, {'role': 'user', 'content': 'hello, can you introduce yourself?'}, {'role': 'user', 'content': 'hello, can you introduce yourself?'}]\n"
     ]
    }
   ],
   "source": [
    "\n",
    "print(gptlog)"
   ]
  },
  {
   "cell_type": "code",
   "execution_count": 16,
   "metadata": {},
   "outputs": [
    {
     "name": "stdout",
     "output_type": "stream",
     "text": [
      "Hello! When foraging, it's important to exercise caution and be absolutely sure about the identification of plants before consuming them. Without a clear description or image, it is challenging for me to identify the specific plant you are referring to. However, based on your description of three main leaves, it could potentially be a plant from the genus Trifolium, commonly known as clover.\n",
      "\n",
      "Clover leaves are generally safe to consume and are even used in some culinary preparations. However, it's crucial to correctly identify the specific species of clover, as some may have minor toxic properties or may not be suitable for consumption in large quantities. Therefore, I would highly recommend consulting a local foraging expert or guidebook to positively identify the plant and its edible properties before considering it for consumption.\n",
      "\n",
      "Remember, safety is paramount when foraging, and it's always best to err on the side of caution.\n"
     ]
    }
   ],
   "source": [
    "resp = req(\"Hey Alia, i found these sharp looking leaves near the british riverside. they look like they have 3 main leaves. are they safe to eat? what are they?\")\n",
    "print(resp['choices'][0]['message']['content'])"
   ]
  },
  {
   "cell_type": "code",
   "execution_count": 19,
   "metadata": {},
   "outputs": [
    {
     "data": {
      "text/plain": [
       "505"
      ]
     },
     "execution_count": 19,
     "metadata": {},
     "output_type": "execute_result"
    }
   ],
   "source": []
  },
  {
   "cell_type": "markdown",
   "metadata": {},
   "source": [
    "## Discord Chat bot Component"
   ]
  }
 ],
 "metadata": {
  "kernelspec": {
   "display_name": "Python 3",
   "language": "python",
   "name": "python3"
  },
  "language_info": {
   "codemirror_mode": {
    "name": "ipython",
    "version": 3
   },
   "file_extension": ".py",
   "mimetype": "text/x-python",
   "name": "python",
   "nbconvert_exporter": "python",
   "pygments_lexer": "ipython3",
   "version": "3.10.9"
  },
  "orig_nbformat": 4
 },
 "nbformat": 4,
 "nbformat_minor": 2
}
